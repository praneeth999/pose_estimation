{
 "cells": [
  {
   "cell_type": "code",
   "execution_count": 5,
   "metadata": {},
   "outputs": [],
   "source": [
    "\"\"\"\n",
    "Imports\n",
    "\"\"\"\n",
    "\n",
    "import cv2\n",
    "import numpy as np\n",
    "import pyAprilTag as pat\n"
   ]
  },
  {
   "cell_type": "code",
   "execution_count": 6,
   "metadata": {},
   "outputs": [
    {
     "name": "stdout",
     "output_type": "stream",
     "text": [
      "[ 1  0  2  3  5  7  4  6  9  8 10 12 13 14 11 15 17 16 20 18 19 23 21 22\n",
      " 25 26 24 30 29 28 27 31 38 39 37 36 33 35 32 34]\n",
      "[ 0  1  2  3  5  6  4  7  8 10 11  9 13 12 14 15 17 16 18 19 20 21 22 23\n",
      " 24 25 26 31 27 29 30 28 32 33 34 37 36 35 39 38]\n"
     ]
    }
   ],
   "source": [
    "\"\"\"\n",
    "Find April tags in images to get point correspondences. \n",
    "I will only be using the center cooordinates as point correspondences between images.\n",
    "There are 40 April Tags in these images, so I will get 40 points in each image.\n",
    "\n",
    "Here\n",
    "- Id represents the type of April Tag\n",
    "- corners, centers, and homographies can be understood from the names.\n",
    "\"\"\"\n",
    "\n",
    "image1 = cv2.imread(\"AprilCalib_orgframe_00007.png\")\n",
    "ids1, corners1, centers1, homographies1 = pat.find(image1)\n",
    "\n",
    "image2 = cv2.imread(\"AprilCalib_orgframe_00008.png\")\n",
    "ids2, corners2, centers2, homographies2 = pat.find(image2)\n",
    "\n",
    "print(ids1)\n",
    "print(ids2)"
   ]
  },
  {
   "cell_type": "code",
   "execution_count": 7,
   "metadata": {},
   "outputs": [
    {
     "name": "stdout",
     "output_type": "stream",
     "text": [
      "Few points in image 1: [(0, array([171.98628517,  37.64735978])), (1, array([238.21221728,  34.45608431])), (2, array([306.21845087,  33.90663495]))]\n",
      "\n",
      "Corresponding points in image 2: [(0, array([ 80.50497922, 166.19489962])), (1, array([133.07805728, 173.07990659])), (2, array([186.9876852 , 180.60721997]))]\n",
      "\n"
     ]
    }
   ],
   "source": [
    "\"\"\"\n",
    "The point correspondences aren't in the right order. \n",
    "So first we need to correctly store them in the right order.\n",
    "\"\"\"\n",
    "\n",
    "# create 2 dictionaries to store corner points as per their id\n",
    "points1 = dict(sorted(zip(ids1, centers1)))\n",
    "points2 = dict(sorted(zip(ids2, centers2)))\n",
    "\n",
    "print(f\"Points in image 1: {list(points1.items())[0:3]}\", end=\"\\n\\n\")\n",
    "print(f\"Corresponding points in image 2: {list(points2.items())[:3]}\", end=\"\\n\\n\")\n"
   ]
  },
  {
   "cell_type": "code",
   "execution_count": 8,
   "metadata": {},
   "outputs": [
    {
     "name": "stdout",
     "output_type": "stream",
     "text": [
      "[[-4.50756704e-06 -5.47177607e-05  3.26190789e-02]\n",
      " [ 4.95879263e-05 -9.38841117e-06  7.19771172e-03]\n",
      " [-3.38434320e-02 -3.46699368e-03  1.00000000e+00]]\n"
     ]
    }
   ],
   "source": [
    "\"\"\"\n",
    "Estimate fundamental matrix between two images\n",
    "\"\"\"\n",
    "\n",
    "\n",
    "def compute_fundamental_matrix(points1, points2):\n",
    "    \"\"\"\n",
    "    Compute fundamental matrix between two images\n",
    "    :param points1: dictionary of points in image 1\n",
    "    :param points2: dictionary of points in image 2\n",
    "    :return: fundamental matrix\n",
    "    \"\"\"\n",
    "\n",
    "    # convert to numpy array\n",
    "    points1 = np.array(list(points1.values()))\n",
    "    points2 = np.array(list(points2.values()))\n",
    "\n",
    "    # estimate fundamental matrix\n",
    "    F, mask = cv2.findFundamentalMat(points1, points2, cv2.FM_LMEDS)\n",
    "\n",
    "    # return fundamental matrix\n",
    "    return F\n",
    "\n",
    "\n",
    "F = compute_fundamental_matrix(points1, points2)\n",
    "print(F)\n"
   ]
  },
  {
   "cell_type": "code",
   "execution_count": 9,
   "metadata": {},
   "outputs": [],
   "source": [
    "def draw_epipolar_lines(img1, img2, lines, pts1, pts2):\n",
    "\n",
    "    r, c = img1.shape\n",
    "    img1 = cv2.cvtColor(img1, cv2.COLOR_GRAY2BGR)\n",
    "    img2 = cv2.cvtColor(img2, cv2.COLOR_GRAY2BGR)\n",
    "\n",
    "    for r, pt1, pt2 in zip(lines, pts1, pts2):\n",
    "\n",
    "        color = tuple(np.random.randint(0, 255, 3).tolist())\n",
    "\n",
    "        x0, y0 = map(int, [0, -r[2] / r[1]])\n",
    "        x1, y1 = map(int, [c, -(r[2] + r[0] * c) / r[1]])\n",
    "\n",
    "        img1 = cv2.line(img1, (x0, y0), (x1, y1), color, 1)\n",
    "        img1 = cv2.circle(img1, tuple(pt1), 5, color, -1)\n",
    "        img2 = cv2.circle(img2, tuple(pt2), 5, color, -1)\n",
    "    return img1, img2\n"
   ]
  },
  {
   "cell_type": "code",
   "execution_count": 10,
   "metadata": {},
   "outputs": [
    {
     "ename": "ValueError",
     "evalue": "too many values to unpack (expected 2)",
     "output_type": "error",
     "traceback": [
      "\u001b[0;31m---------------------------------------------------------------------------\u001b[0m",
      "\u001b[0;31mValueError\u001b[0m                                Traceback (most recent call last)",
      "\u001b[0;32m/tmp/ipykernel_24723/787391715.py\u001b[0m in \u001b[0;36m<module>\u001b[0;34m\u001b[0m\n\u001b[0;32m----> 1\u001b[0;31m \u001b[0mimg1_lines\u001b[0m\u001b[0;34m,\u001b[0m \u001b[0mimg2_lines\u001b[0m \u001b[0;34m=\u001b[0m \u001b[0mdraw_epipolar_lines\u001b[0m\u001b[0;34m(\u001b[0m\u001b[0mimage1\u001b[0m\u001b[0;34m,\u001b[0m \u001b[0mimage2\u001b[0m\u001b[0;34m,\u001b[0m \u001b[0mpoints1\u001b[0m\u001b[0;34m,\u001b[0m \u001b[0mpoints2\u001b[0m\u001b[0;34m,\u001b[0m \u001b[0mF\u001b[0m\u001b[0;34m)\u001b[0m\u001b[0;34m\u001b[0m\u001b[0;34m\u001b[0m\u001b[0m\n\u001b[0m\u001b[1;32m      2\u001b[0m \u001b[0;34m\u001b[0m\u001b[0m\n\u001b[1;32m      3\u001b[0m \u001b[0mcv2\u001b[0m\u001b[0;34m.\u001b[0m\u001b[0mimshow\u001b[0m\u001b[0;34m(\u001b[0m\u001b[0mimg1_lines\u001b[0m\u001b[0;34m)\u001b[0m\u001b[0;34m\u001b[0m\u001b[0;34m\u001b[0m\u001b[0m\n\u001b[1;32m      4\u001b[0m \u001b[0mcv2\u001b[0m\u001b[0;34m.\u001b[0m\u001b[0mimshow\u001b[0m\u001b[0;34m(\u001b[0m\u001b[0mimg2_lines\u001b[0m\u001b[0;34m)\u001b[0m\u001b[0;34m\u001b[0m\u001b[0;34m\u001b[0m\u001b[0m\n\u001b[1;32m      5\u001b[0m \u001b[0;34m\u001b[0m\u001b[0m\n",
      "\u001b[0;32m/tmp/ipykernel_24723/2523258402.py\u001b[0m in \u001b[0;36mdraw_epipolar_lines\u001b[0;34m(img1, img2, lines, pts1, pts2)\u001b[0m\n\u001b[1;32m      1\u001b[0m \u001b[0;32mdef\u001b[0m \u001b[0mdraw_epipolar_lines\u001b[0m\u001b[0;34m(\u001b[0m\u001b[0mimg1\u001b[0m\u001b[0;34m,\u001b[0m \u001b[0mimg2\u001b[0m\u001b[0;34m,\u001b[0m \u001b[0mlines\u001b[0m\u001b[0;34m,\u001b[0m \u001b[0mpts1\u001b[0m\u001b[0;34m,\u001b[0m \u001b[0mpts2\u001b[0m\u001b[0;34m)\u001b[0m\u001b[0;34m:\u001b[0m\u001b[0;34m\u001b[0m\u001b[0;34m\u001b[0m\u001b[0m\n\u001b[1;32m      2\u001b[0m \u001b[0;34m\u001b[0m\u001b[0m\n\u001b[0;32m----> 3\u001b[0;31m     \u001b[0mr\u001b[0m\u001b[0;34m,\u001b[0m \u001b[0mc\u001b[0m \u001b[0;34m=\u001b[0m \u001b[0mimg1\u001b[0m\u001b[0;34m.\u001b[0m\u001b[0mshape\u001b[0m\u001b[0;34m\u001b[0m\u001b[0;34m\u001b[0m\u001b[0m\n\u001b[0m\u001b[1;32m      4\u001b[0m     \u001b[0mimg1\u001b[0m \u001b[0;34m=\u001b[0m \u001b[0mcv2\u001b[0m\u001b[0;34m.\u001b[0m\u001b[0mcvtColor\u001b[0m\u001b[0;34m(\u001b[0m\u001b[0mimg1\u001b[0m\u001b[0;34m,\u001b[0m \u001b[0mcv2\u001b[0m\u001b[0;34m.\u001b[0m\u001b[0mCOLOR_GRAY2BGR\u001b[0m\u001b[0;34m)\u001b[0m\u001b[0;34m\u001b[0m\u001b[0;34m\u001b[0m\u001b[0m\n\u001b[1;32m      5\u001b[0m     \u001b[0mimg2\u001b[0m \u001b[0;34m=\u001b[0m \u001b[0mcv2\u001b[0m\u001b[0;34m.\u001b[0m\u001b[0mcvtColor\u001b[0m\u001b[0;34m(\u001b[0m\u001b[0mimg2\u001b[0m\u001b[0;34m,\u001b[0m \u001b[0mcv2\u001b[0m\u001b[0;34m.\u001b[0m\u001b[0mCOLOR_GRAY2BGR\u001b[0m\u001b[0;34m)\u001b[0m\u001b[0;34m\u001b[0m\u001b[0;34m\u001b[0m\u001b[0m\n",
      "\u001b[0;31mValueError\u001b[0m: too many values to unpack (expected 2)"
     ]
    }
   ],
   "source": [
    "img1_lines, img2_lines = draw_epipolar_lines(image1, image2, points1, points2, F)\n",
    "\n",
    "cv2.imshow(img1_lines)\n",
    "cv2.imshow(img2_lines)\n",
    "\n",
    "cv2.waitKey(0)\n",
    "cv2.destroyAllWindows()\n"
   ]
  },
  {
   "cell_type": "code",
   "execution_count": 15,
   "metadata": {},
   "outputs": [],
   "source": [
    "K = np.array(\n",
    "    [\n",
    "        [605.5268838, 0, 315.56751193],\n",
    "        [0, 606.58216672, 255.62059543],\n",
    "        [\n",
    "            0,\n",
    "            0,\n",
    "            1,\n",
    "        ],\n",
    "    ]\n",
    ")\n",
    "essential_matrix = K.T @ F @ K\n"
   ]
  },
  {
   "cell_type": "code",
   "execution_count": 17,
   "metadata": {},
   "outputs": [],
   "source": [
    "R1, R2, t = cv2.decomposeEssentialMat(essential_matrix)"
   ]
  },
  {
   "cell_type": "code",
   "execution_count": 19,
   "metadata": {},
   "outputs": [
    {
     "name": "stdout",
     "output_type": "stream",
     "text": [
      "[[ 0.99039797 -0.10391459 -0.091179  ]\n",
      " [ 0.11315053  0.9882484   0.10277184]\n",
      " [ 0.07942801 -0.11210198  0.99051721]]\n",
      "[[-0.49080152 -0.38874562 -0.77973759]\n",
      " [-0.52842439 -0.57874008  0.62115021]\n",
      " [-0.69273482  0.71689383  0.07862384]]\n",
      "[[-0.55919728]\n",
      " [ 0.46481517]\n",
      " [ 0.68647305]]\n"
     ]
    }
   ],
   "source": [
    "print(R1)\n",
    "print(R2)\n",
    "print(t)"
   ]
  },
  {
   "cell_type": "code",
   "execution_count": 20,
   "metadata": {},
   "outputs": [
    {
     "data": {
      "text/plain": [
       "array([[ -1.65275718, -20.09793249,  10.42090611],\n",
       "       [ 18.21373504,  -3.45439008,  12.40228755],\n",
       "       [-13.6789604 , -14.03267945,   0.09114844]])"
      ]
     },
     "execution_count": 20,
     "metadata": {},
     "output_type": "execute_result"
    }
   ],
   "source": [
    "essential_matrix"
   ]
  }
 ],
 "metadata": {
  "interpreter": {
   "hash": "64179ad5a06a3e6279ec72899312e839e48f8538a2c2e8b3cd466578813b7a66"
  },
  "kernelspec": {
   "display_name": "Python 3.7.3 64-bit ('hw': conda)",
   "language": "python",
   "name": "python3"
  },
  "language_info": {
   "codemirror_mode": {
    "name": "ipython",
    "version": 3
   },
   "file_extension": ".py",
   "mimetype": "text/x-python",
   "name": "python",
   "nbconvert_exporter": "python",
   "pygments_lexer": "ipython3",
   "version": "3.7.3"
  },
  "orig_nbformat": 4
 },
 "nbformat": 4,
 "nbformat_minor": 2
}
