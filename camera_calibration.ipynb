{
 "cells": [
  {
   "cell_type": "code",
   "execution_count": null,
   "metadata": {},
   "outputs": [],
   "source": [
    "\"\"\"\n",
    "Imports\n",
    "\"\"\"\n",
    "\n",
    "import importlib\n",
    "import os\n",
    "import sys\n",
    "\n",
    "import pyAprilTag"
   ]
  },
  {
   "cell_type": "code",
   "execution_count": null,
   "metadata": {},
   "outputs": [],
   "source": [
    "\"\"\"\n",
    "Calibrate camera using AprilTag markers\n",
    "\"\"\"\n",
    "CUR_DIR = os.getcwd()\n",
    "LOG_DIR = os.path.join(CUR_DIR, \"calib_log\")\n",
    "sys.path.insert(0, CUR_DIR)  # otherwise importlib cannot find the path\n",
    "if (\n",
    "    not os.path.exists(LOG_DIR)\n",
    "    or len([f.endswith(\".png\") for f in os.listdir(LOG_DIR)]) < 2\n",
    "):\n",
    "    os.makedirs(LOG_DIR)\n",
    "    pyAprilTag.calib(\n",
    "        pyAprilTag.calib_pattern_path,\n",
    "        \"camera://{:d}\".format(0),\n",
    "        log_dir=LOG_DIR,\n",
    "        nDistCoeffs=4,\n",
    "    )\n",
    "\n",
    "logs = sorted([f for f in os.listdir(LOG_DIR) if f.endswith(\".py\")])\n",
    "if len(logs) == 0:\n",
    "    print(\"no calibration log available!\")\n",
    "    exit(-1)\n",
    "\n",
    "last_log = os.path.relpath(os.path.join(LOG_DIR, logs[-1])).replace(os.path.sep, \".\")[\n",
    "    :-3\n",
    "]\n",
    "calib = importlib.import_module(last_log)\n",
    "\n",
    "print(f\"last log: {last_log}\")\n",
    "print(f\"camera intrinsic matrix: {calib.K}\")\n",
    "print(f\"camera distortion parameters: {calib.distCoeffs}\")\n"
   ]
  }
 ],
 "metadata": {
  "interpreter": {
   "hash": "c23628ee6ffddd8c7c8f188db0d63037d5999ddfe9b05c0ad243d8dda132528d"
  },
  "kernelspec": {
   "display_name": "Python 3.7.3 ('pyAprilTag')",
   "language": "python",
   "name": "python3"
  },
  "language_info": {
   "name": "python",
   "version": "3.7.3"
  },
  "orig_nbformat": 4
 },
 "nbformat": 4,
 "nbformat_minor": 2
}
